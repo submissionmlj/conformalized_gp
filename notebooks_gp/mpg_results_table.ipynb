{
 "cells": [
  {
   "cell_type": "code",
   "execution_count": 1,
   "metadata": {},
   "outputs": [],
   "source": [
    "import random\n",
    "import sys\n",
    "\n",
    "try:\n",
    "    sys.path.remove('/Users/vblot/Documents/projects/mapie/original/MAPIE')\n",
    "    sys.path.remove('/Users/vblot/Documents/projects/mapie/original/MAPIE')\n",
    "except:\n",
    "    pass\n",
    "sys.path.append(\"/Users/vblot/Documents/projects/cemracs/conformalized_gp/\")\n",
    "# sys.path.append(\"/Users/vblot/Documents/projects/cemracs/conformal_uq\")\n",
    "\n",
    "import matplotlib.pyplot as plt\n",
    "import scipy\n",
    "import numpy as np\n",
    "import pandas as pd\n",
    "from scipy.stats import bootstrap\n",
    "\n",
    "from sklearn.metrics import mean_squared_error\n",
    "from sklearn.model_selection import train_test_split\n",
    "from sklearn.preprocessing import StandardScaler\n",
    "\n",
    "import mmd\n",
    "from mapie.conformity_scores.residual_conformity_scores import GPCrossConformityScore\n",
    "from mapie.metrics import regression_coverage_score_v2, regression_mean_width_score\n",
    "from mapie.regression import MapieRegressor\n",
    "from notebooks_gp.adaptivity_measures import hsic_ot, my_correlation_pearson, q2, my_correlation_spearman\n",
    "from notebooks_gp.datasets import get_morokoff\n",
    "from wrappers import GpOTtoSklearnStd\n",
    "\n",
    "\n",
    "plt.rcParams[\"figure.dpi\"] = 100\n",
    "%load_ext autoreload\n",
    "%autoreload 2\n"
   ]
  },
  {
   "cell_type": "markdown",
   "metadata": {},
   "source": [
    "# Get data"
   ]
  },
  {
   "cell_type": "code",
   "execution_count": 2,
   "metadata": {},
   "outputs": [],
   "source": [
    "DATA_PATH = \"/Users/vblot/Documents/projects/cemracs/data_UQ\"\n",
    "EDF_BLUE = np.array([[26, 54, 105]]) / 255\n",
    "CAP_BLUE = np.array([[48, 112, 170]]) / 255\n",
    "PS_VIOLET = np.array([[84, 13, 46]]) / 255\n",
    "EDF_ORANGE = np.array([[223, 84, 49]]) / 255\n",
    "LISN_YELLOW = np.array([[242, 188, 64]]) / 255\n",
    "METHOD = \"plus\"\n",
    "N_POINTS_TRAIN = \"all\"\n",
    "CV = 10\n",
    "SAVE_PLOT = False\n"
   ]
  },
  {
   "cell_type": "code",
   "execution_count": 3,
   "metadata": {},
   "outputs": [],
   "source": [
    "X, y = get_morokoff(noisy=True, nobs=200)"
   ]
  },
  {
   "cell_type": "code",
   "execution_count": 4,
   "metadata": {},
   "outputs": [
    {
     "name": "stdout",
     "output_type": "stream",
     "text": [
      "(200, 10) (200,)\n"
     ]
    }
   ],
   "source": [
    "print(X.shape, y.shape)"
   ]
  },
  {
   "cell_type": "markdown",
   "metadata": {},
   "source": [
    "# Split into train test"
   ]
  },
  {
   "cell_type": "code",
   "execution_count": 5,
   "metadata": {},
   "outputs": [],
   "source": [
    "X_train, X_test, y_train, y_test = train_test_split(X, y, test_size=.2, random_state=42)\n",
    "n_train = N_POINTS_TRAIN\n",
    "n_train = len(X_train) if type(n_train) == str else n_train\n",
    "random.seed(42)\n",
    "indexes_train = np.random.choice(range(len(X_train)), n_train, replace=False)\n",
    "X_train = X_train[indexes_train]\n",
    "y_train = y_train[indexes_train]"
   ]
  },
  {
   "cell_type": "code",
   "execution_count": 6,
   "metadata": {},
   "outputs": [
    {
     "name": "stdout",
     "output_type": "stream",
     "text": [
      "  N training points = 160\n",
      "  N testing points = 40\n"
     ]
    }
   ],
   "source": [
    "print(\n",
    "    f\"  N training points = {len(X_train)}\\n\",\n",
    "    f\" N testing points = {len(X_test)}\"\n",
    ")"
   ]
  },
  {
   "cell_type": "markdown",
   "metadata": {},
   "source": [
    "# Get data"
   ]
  },
  {
   "cell_type": "code",
   "execution_count": 7,
   "metadata": {},
   "outputs": [],
   "source": [
    "scaler = StandardScaler().fit(X_train)\n",
    "X_train_scale = scaler.transform(X_train)\n",
    "X_test_scale = scaler.transform(X_test)"
   ]
  },
  {
   "cell_type": "markdown",
   "metadata": {},
   "source": [
    "# Define all possible models"
   ]
  },
  {
   "cell_type": "code",
   "execution_count": 8,
   "metadata": {},
   "outputs": [],
   "source": [
    "noise = .1"
   ]
  },
  {
   "cell_type": "code",
   "execution_count": 9,
   "metadata": {},
   "outputs": [],
   "source": [
    "models_hp = {\n",
    "    \"GP\": {\n",
    "        \"nu\": {\n",
    "            1/2: [1],\n",
    "            3/2: [1],\n",
    "            5/2: [1],\n",
    "        }\n",
    "    },\n",
    "    \"J+\": {\n",
    "        \"nu\": {\n",
    "            1/2: [1],\n",
    "            3/2: [1],\n",
    "            5/2: [1],\n",
    "        }\n",
    "    },\n",
    "    \"J+GP\": {\n",
    "        \"nu\": {\n",
    "            1/2: [.5, 1, 1.5],\n",
    "            3/2: [.5, 1, 1.5],\n",
    "            5/2: [.5, 1, 1.5],\n",
    "        }\n",
    "    },\n",
    "    \"J-minmax-GP\": {\n",
    "        \"nu\": {\n",
    "            1/2: [.5, 1, 1.5],\n",
    "            3/2: [.5, 1, 1.5],\n",
    "            5/2: [.5, 1, 1.5],\n",
    "        }\n",
    "    }\n",
    "}"
   ]
  },
  {
   "cell_type": "code",
   "execution_count": 10,
   "metadata": {},
   "outputs": [],
   "source": [
    "models = {}\n",
    "\n",
    "for method in models_hp.keys():\n",
    "    for nu in models_hp[method][\"nu\"].keys():\n",
    "        for power_std in models_hp[method][\"nu\"][nu]:\n",
    "            models[(method, nu, power_std)] = {\n",
    "                \"estimator\": GpOTtoSklearnStd(\n",
    "                    scale=1, amplitude=1.0, nu=nu, noise=noise, power_std=power_std\n",
    "                )\n",
    "            }\n",
    "            "
   ]
  },
  {
   "cell_type": "code",
   "execution_count": 11,
   "metadata": {},
   "outputs": [
    {
     "data": {
      "text/plain": [
       "dict_keys([('GP', 0.5, 1), ('GP', 1.5, 1), ('GP', 2.5, 1), ('J+', 0.5, 1), ('J+', 1.5, 1), ('J+', 2.5, 1), ('J+GP', 0.5, 0.5), ('J+GP', 0.5, 1), ('J+GP', 0.5, 1.5), ('J+GP', 1.5, 0.5), ('J+GP', 1.5, 1), ('J+GP', 1.5, 1.5), ('J+GP', 2.5, 0.5), ('J+GP', 2.5, 1), ('J+GP', 2.5, 1.5), ('J-minmax-GP', 0.5, 0.5), ('J-minmax-GP', 0.5, 1), ('J-minmax-GP', 0.5, 1.5), ('J-minmax-GP', 1.5, 0.5), ('J-minmax-GP', 1.5, 1), ('J-minmax-GP', 1.5, 1.5), ('J-minmax-GP', 2.5, 0.5), ('J-minmax-GP', 2.5, 1), ('J-minmax-GP', 2.5, 1.5)])"
      ]
     },
     "execution_count": 11,
     "metadata": {},
     "output_type": "execute_result"
    }
   ],
   "source": [
    "models.keys()"
   ]
  },
  {
   "cell_type": "code",
   "execution_count": 12,
   "metadata": {},
   "outputs": [
    {
     "name": "stdout",
     "output_type": "stream",
     "text": [
      "Fitting  ('GP', 0.5, 1)\n",
      "Fitting  ('GP', 1.5, 1)\n",
      "Fitting  ('GP', 2.5, 1)\n"
     ]
    },
    {
     "name": "stderr",
     "output_type": "stream",
     "text": [
      "\u001b[34m\u001b[1mWRN - Warning! For coherency we set scale upper bounds = [7.04392,6.99565,6.81422,6.67021,6.73579,6.78326,7.57666,6.78734,6.92692,6.5869]#10\u001b[0m\n"
     ]
    }
   ],
   "source": [
    "for model_name, model in models.items():\n",
    "    if model_name[0] == \"GP\":\n",
    "        print(\"Fitting \", model_name)\n",
    "        model[\"estimator\"].fit(X_train_scale, y_train)"
   ]
  },
  {
   "cell_type": "code",
   "execution_count": 13,
   "metadata": {},
   "outputs": [
    {
     "name": "stdout",
     "output_type": "stream",
     "text": [
      "('GP', 0.5, 1) MSE: 0.0028370670805225365\n",
      "('GP', 1.5, 1) MSE: 0.0026025693688943663\n",
      "('GP', 2.5, 1) MSE: 0.002517261748309972\n"
     ]
    }
   ],
   "source": [
    "for model_name, model in models.items():\n",
    "    if model_name[0] == \"GP\":\n",
    "        print(model_name, \"MSE:\", mean_squared_error(y_test, model[\"estimator\"].predict(X_test_scale)))"
   ]
  },
  {
   "cell_type": "code",
   "execution_count": 14,
   "metadata": {},
   "outputs": [
    {
     "name": "stdout",
     "output_type": "stream",
     "text": [
      "('GP', 0.5, 1) Q2: 0.8275736061228423\n",
      "('GP', 1.5, 1) Q2: 0.8418255055812942\n",
      "('GP', 2.5, 1) Q2: 0.8470101857351731\n"
     ]
    }
   ],
   "source": [
    "for model_name, model in models.items():\n",
    "    if model_name[0] == \"GP\":\n",
    "        print(model_name, \"Q2:\", q2(y_test, model[\"estimator\"].predict(X_test_scale)))"
   ]
  },
  {
   "cell_type": "markdown",
   "metadata": {},
   "source": [
    "# Fit MAPIE"
   ]
  },
  {
   "cell_type": "code",
   "execution_count": 15,
   "metadata": {},
   "outputs": [],
   "source": [
    "for model_name, model in models.items():\n",
    "    if model_name[0] != \"GP\":\n",
    "        if \"+\" in model_name[0]:\n",
    "            METHOD = \"plus\"\n",
    "        else:\n",
    "            METHOD = \"minmax\"\n",
    "        models[model_name][\"mapie_estimator\"] = MapieRegressor(\n",
    "            estimator=model[\"estimator\"],\n",
    "            conformity_score=GPCrossConformityScore(sym=True) if \"GP\" in model_name[0] else None,\n",
    "            cv=CV,\n",
    "            method=METHOD,\n",
    "            model_has_std=True if \"GP\" in model_name[0] else False,\n",
    "            random_state=42\n",
    "        )\n"
   ]
  },
  {
   "cell_type": "code",
   "execution_count": 16,
   "metadata": {},
   "outputs": [
    {
     "name": "stdout",
     "output_type": "stream",
     "text": [
      "Fitting MAPIE ('J+', 0.5, 1)\n"
     ]
    },
    {
     "name": "stderr",
     "output_type": "stream",
     "text": [
      "\u001b[34m\u001b[1mWRN - (previous message repeated 5 times)\u001b[0m\n",
      "\u001b[34m\u001b[1mWRN - Warning! For coherency we set scale upper bounds = [7.04392,6.99565,6.81422,6.67021,6.6169,6.78326,7.57666,6.78734,6.84665,6.48673]#10\u001b[0m\n",
      "\u001b[34m\u001b[1mWRN - Warning! For coherency we set scale upper bounds = [7.04392,6.99565,6.77364,6.66584,6.73579,6.78326,7.57666,6.77061,6.92692,6.5869]#10\u001b[0m\n",
      "\u001b[34m\u001b[1mWRN - Warning! For coherency we set scale upper bounds = [7.00126,6.95358,6.81422,6.59889,6.73579,6.78326,7.54532,6.71692,6.92692,6.5869]#10\u001b[0m\n",
      "\u001b[34m\u001b[1mWRN - Warning! For coherency we set scale upper bounds = [7.04392,6.99565,6.81422,6.67021,6.73579,6.70357,7.57666,6.78734,6.8971,6.5869]#10\u001b[0m\n",
      "\u001b[34m\u001b[1mWRN - Warning! For coherency we set scale upper bounds = [7.04392,6.99565,6.81422,6.67021,6.73579,6.78326,7.45123,6.78734,6.92692,6.5869]#10\u001b[0m\n",
      "\u001b[34m\u001b[1mWRN - Warning! For coherency we set scale upper bounds = [7.04392,6.99565,6.81422,6.67021,6.73579,6.78326,7.57666,6.78734,6.92692,6.5869]#10\u001b[0m\n",
      "\u001b[34m\u001b[1mWRN - Warning! For coherency we set scale upper bounds = [7.04365,6.91888,6.81422,6.67021,6.68359,6.78326,7.57666,6.78734,6.92692,6.5869]#10\u001b[0m\n",
      "\u001b[34m\u001b[1mWRN - Warning! For coherency we set scale upper bounds = [7.04392,6.99565,6.81422,6.67021,6.73579,6.78326,7.57666,6.78734,6.92692,6.5869]#10\u001b[0m\n"
     ]
    },
    {
     "name": "stdout",
     "output_type": "stream",
     "text": [
      "Fitting MAPIE ('J+', 1.5, 1)\n"
     ]
    },
    {
     "name": "stderr",
     "output_type": "stream",
     "text": [
      "\u001b[34m\u001b[1mWRN - (previous message repeated 3 times)\u001b[0m\n",
      "\u001b[34m\u001b[1mWRN - Warning! For coherency we set scale upper bounds = [7.04392,6.99565,6.81422,6.67021,6.6169,6.78326,7.57666,6.78734,6.84665,6.48673]#10\u001b[0m\n",
      "\u001b[34m\u001b[1mWRN - Warning! For coherency we set scale upper bounds = [7.04392,6.99565,6.77364,6.66584,6.73579,6.78326,7.57666,6.77061,6.92692,6.5869]#10\u001b[0m\n",
      "\u001b[34m\u001b[1mWRN - Warning! For coherency we set scale upper bounds = [7.00126,6.95358,6.81422,6.59889,6.73579,6.78326,7.54532,6.71692,6.92692,6.5869]#10\u001b[0m\n",
      "\u001b[34m\u001b[1mWRN - Warning! For coherency we set scale upper bounds = [7.04392,6.99565,6.81422,6.67021,6.73579,6.70357,7.57666,6.78734,6.8971,6.5869]#10\u001b[0m\n",
      "\u001b[34m\u001b[1mWRN - Warning! For coherency we set scale upper bounds = [7.04392,6.99565,6.81422,6.67021,6.73579,6.78326,7.45123,6.78734,6.92692,6.5869]#10\u001b[0m\n",
      "\u001b[34m\u001b[1mWRN - Warning! For coherency we set scale upper bounds = [7.04392,6.99565,6.81422,6.67021,6.73579,6.78326,7.57666,6.78734,6.92692,6.5869]#10\u001b[0m\n",
      "\u001b[34m\u001b[1mWRN - Warning! For coherency we set scale upper bounds = [7.04365,6.91888,6.81422,6.67021,6.68359,6.78326,7.57666,6.78734,6.92692,6.5869]#10\u001b[0m\n",
      "\u001b[34m\u001b[1mWRN - Warning! For coherency we set scale upper bounds = [7.04392,6.99565,6.81422,6.67021,6.73579,6.78326,7.57666,6.78734,6.92692,6.5869]#10\u001b[0m\n"
     ]
    },
    {
     "name": "stdout",
     "output_type": "stream",
     "text": [
      "Fitting MAPIE ('J+', 2.5, 1)\n"
     ]
    },
    {
     "name": "stderr",
     "output_type": "stream",
     "text": [
      "\u001b[34m\u001b[1mWRN - (previous message repeated 3 times)\u001b[0m\n",
      "\u001b[34m\u001b[1mWRN - Warning! For coherency we set scale upper bounds = [7.04392,6.99565,6.81422,6.67021,6.6169,6.78326,7.57666,6.78734,6.84665,6.48673]#10\u001b[0m\n",
      "\u001b[34m\u001b[1mWRN - Warning! For coherency we set scale upper bounds = [7.04392,6.99565,6.77364,6.66584,6.73579,6.78326,7.57666,6.77061,6.92692,6.5869]#10\u001b[0m\n",
      "\u001b[34m\u001b[1mWRN - Warning! For coherency we set scale upper bounds = [7.00126,6.95358,6.81422,6.59889,6.73579,6.78326,7.54532,6.71692,6.92692,6.5869]#10\u001b[0m\n",
      "\u001b[34m\u001b[1mWRN - Warning! For coherency we set scale upper bounds = [7.04392,6.99565,6.81422,6.67021,6.73579,6.70357,7.57666,6.78734,6.8971,6.5869]#10\u001b[0m\n",
      "\u001b[34m\u001b[1mWRN - Warning! For coherency we set scale upper bounds = [7.04392,6.99565,6.81422,6.67021,6.73579,6.78326,7.45123,6.78734,6.92692,6.5869]#10\u001b[0m\n",
      "\u001b[34m\u001b[1mWRN - Warning! For coherency we set scale upper bounds = [7.04392,6.99565,6.81422,6.67021,6.73579,6.78326,7.57666,6.78734,6.92692,6.5869]#10\u001b[0m\n",
      "\u001b[34m\u001b[1mWRN - Warning! For coherency we set scale upper bounds = [7.04365,6.91888,6.81422,6.67021,6.68359,6.78326,7.57666,6.78734,6.92692,6.5869]#10\u001b[0m\n",
      "\u001b[34m\u001b[1mWRN - Warning! For coherency we set scale upper bounds = [7.04392,6.99565,6.81422,6.67021,6.73579,6.78326,7.57666,6.78734,6.92692,6.5869]#10\u001b[0m\n"
     ]
    },
    {
     "name": "stdout",
     "output_type": "stream",
     "text": [
      "Fitting MAPIE ('J+GP', 0.5, 0.5)\n"
     ]
    },
    {
     "name": "stderr",
     "output_type": "stream",
     "text": [
      "\u001b[34m\u001b[1mWRN - (previous message repeated 3 times)\u001b[0m\n",
      "\u001b[34m\u001b[1mWRN - Warning! For coherency we set scale upper bounds = [7.04392,6.99565,6.81422,6.67021,6.6169,6.78326,7.57666,6.78734,6.84665,6.48673]#10\u001b[0m\n",
      "\u001b[34m\u001b[1mWRN - Warning! For coherency we set scale upper bounds = [7.04392,6.99565,6.77364,6.66584,6.73579,6.78326,7.57666,6.77061,6.92692,6.5869]#10\u001b[0m\n",
      "\u001b[34m\u001b[1mWRN - Warning! For coherency we set scale upper bounds = [7.00126,6.95358,6.81422,6.59889,6.73579,6.78326,7.54532,6.71692,6.92692,6.5869]#10\u001b[0m\n",
      "\u001b[34m\u001b[1mWRN - Warning! For coherency we set scale upper bounds = [7.04392,6.99565,6.81422,6.67021,6.73579,6.70357,7.57666,6.78734,6.8971,6.5869]#10\u001b[0m\n",
      "\u001b[34m\u001b[1mWRN - Warning! For coherency we set scale upper bounds = [7.04392,6.99565,6.81422,6.67021,6.73579,6.78326,7.45123,6.78734,6.92692,6.5869]#10\u001b[0m\n",
      "\u001b[34m\u001b[1mWRN - Warning! For coherency we set scale upper bounds = [7.04392,6.99565,6.81422,6.67021,6.73579,6.78326,7.57666,6.78734,6.92692,6.5869]#10\u001b[0m\n",
      "\u001b[34m\u001b[1mWRN - Warning! For coherency we set scale upper bounds = [7.04365,6.91888,6.81422,6.67021,6.68359,6.78326,7.57666,6.78734,6.92692,6.5869]#10\u001b[0m\n",
      "\u001b[34m\u001b[1mWRN - Warning! For coherency we set scale upper bounds = [7.04392,6.99565,6.81422,6.67021,6.73579,6.78326,7.57666,6.78734,6.92692,6.5869]#10\u001b[0m\n"
     ]
    },
    {
     "name": "stdout",
     "output_type": "stream",
     "text": [
      "Fitting MAPIE ('J+GP', 0.5, 1)\n"
     ]
    },
    {
     "name": "stderr",
     "output_type": "stream",
     "text": [
      "\u001b[34m\u001b[1mWRN - (previous message repeated 3 times)\u001b[0m\n",
      "\u001b[34m\u001b[1mWRN - Warning! For coherency we set scale upper bounds = [7.04392,6.99565,6.81422,6.67021,6.6169,6.78326,7.57666,6.78734,6.84665,6.48673]#10\u001b[0m\n",
      "\u001b[34m\u001b[1mWRN - Warning! For coherency we set scale upper bounds = [7.04392,6.99565,6.77364,6.66584,6.73579,6.78326,7.57666,6.77061,6.92692,6.5869]#10\u001b[0m\n",
      "\u001b[34m\u001b[1mWRN - Warning! For coherency we set scale upper bounds = [7.00126,6.95358,6.81422,6.59889,6.73579,6.78326,7.54532,6.71692,6.92692,6.5869]#10\u001b[0m\n",
      "\u001b[34m\u001b[1mWRN - Warning! For coherency we set scale upper bounds = [7.04392,6.99565,6.81422,6.67021,6.73579,6.70357,7.57666,6.78734,6.8971,6.5869]#10\u001b[0m\n",
      "\u001b[34m\u001b[1mWRN - Warning! For coherency we set scale upper bounds = [7.04392,6.99565,6.81422,6.67021,6.73579,6.78326,7.45123,6.78734,6.92692,6.5869]#10\u001b[0m\n",
      "\u001b[34m\u001b[1mWRN - Warning! For coherency we set scale upper bounds = [7.04392,6.99565,6.81422,6.67021,6.73579,6.78326,7.57666,6.78734,6.92692,6.5869]#10\u001b[0m\n",
      "\u001b[34m\u001b[1mWRN - Warning! For coherency we set scale upper bounds = [7.04365,6.91888,6.81422,6.67021,6.68359,6.78326,7.57666,6.78734,6.92692,6.5869]#10\u001b[0m\n",
      "\u001b[34m\u001b[1mWRN - Warning! For coherency we set scale upper bounds = [7.04392,6.99565,6.81422,6.67021,6.73579,6.78326,7.57666,6.78734,6.92692,6.5869]#10\u001b[0m\n"
     ]
    },
    {
     "name": "stdout",
     "output_type": "stream",
     "text": [
      "Fitting MAPIE ('J+GP', 0.5, 1.5)\n"
     ]
    },
    {
     "name": "stderr",
     "output_type": "stream",
     "text": [
      "\u001b[34m\u001b[1mWRN - (previous message repeated 3 times)\u001b[0m\n",
      "\u001b[34m\u001b[1mWRN - Warning! For coherency we set scale upper bounds = [7.04392,6.99565,6.81422,6.67021,6.6169,6.78326,7.57666,6.78734,6.84665,6.48673]#10\u001b[0m\n",
      "\u001b[34m\u001b[1mWRN - Warning! For coherency we set scale upper bounds = [7.04392,6.99565,6.77364,6.66584,6.73579,6.78326,7.57666,6.77061,6.92692,6.5869]#10\u001b[0m\n",
      "\u001b[34m\u001b[1mWRN - Warning! For coherency we set scale upper bounds = [7.00126,6.95358,6.81422,6.59889,6.73579,6.78326,7.54532,6.71692,6.92692,6.5869]#10\u001b[0m\n",
      "\u001b[34m\u001b[1mWRN - Warning! For coherency we set scale upper bounds = [7.04392,6.99565,6.81422,6.67021,6.73579,6.70357,7.57666,6.78734,6.8971,6.5869]#10\u001b[0m\n",
      "\u001b[34m\u001b[1mWRN - Warning! For coherency we set scale upper bounds = [7.04392,6.99565,6.81422,6.67021,6.73579,6.78326,7.45123,6.78734,6.92692,6.5869]#10\u001b[0m\n",
      "\u001b[34m\u001b[1mWRN - Warning! For coherency we set scale upper bounds = [7.04392,6.99565,6.81422,6.67021,6.73579,6.78326,7.57666,6.78734,6.92692,6.5869]#10\u001b[0m\n",
      "\u001b[34m\u001b[1mWRN - Warning! For coherency we set scale upper bounds = [7.04365,6.91888,6.81422,6.67021,6.68359,6.78326,7.57666,6.78734,6.92692,6.5869]#10\u001b[0m\n",
      "\u001b[34m\u001b[1mWRN - Warning! For coherency we set scale upper bounds = [7.04392,6.99565,6.81422,6.67021,6.73579,6.78326,7.57666,6.78734,6.92692,6.5869]#10\u001b[0m\n"
     ]
    },
    {
     "name": "stdout",
     "output_type": "stream",
     "text": [
      "Fitting MAPIE ('J+GP', 1.5, 0.5)\n"
     ]
    },
    {
     "name": "stderr",
     "output_type": "stream",
     "text": [
      "\u001b[34m\u001b[1mWRN - (previous message repeated 3 times)\u001b[0m\n",
      "\u001b[34m\u001b[1mWRN - Warning! For coherency we set scale upper bounds = [7.04392,6.99565,6.81422,6.67021,6.6169,6.78326,7.57666,6.78734,6.84665,6.48673]#10\u001b[0m\n",
      "\u001b[34m\u001b[1mWRN - Warning! For coherency we set scale upper bounds = [7.04392,6.99565,6.77364,6.66584,6.73579,6.78326,7.57666,6.77061,6.92692,6.5869]#10\u001b[0m\n",
      "\u001b[34m\u001b[1mWRN - Warning! For coherency we set scale upper bounds = [7.00126,6.95358,6.81422,6.59889,6.73579,6.78326,7.54532,6.71692,6.92692,6.5869]#10\u001b[0m\n",
      "\u001b[34m\u001b[1mWRN - Warning! For coherency we set scale upper bounds = [7.04392,6.99565,6.81422,6.67021,6.73579,6.70357,7.57666,6.78734,6.8971,6.5869]#10\u001b[0m\n",
      "\u001b[34m\u001b[1mWRN - Warning! For coherency we set scale upper bounds = [7.04392,6.99565,6.81422,6.67021,6.73579,6.78326,7.45123,6.78734,6.92692,6.5869]#10\u001b[0m\n",
      "\u001b[34m\u001b[1mWRN - Warning! For coherency we set scale upper bounds = [7.04392,6.99565,6.81422,6.67021,6.73579,6.78326,7.57666,6.78734,6.92692,6.5869]#10\u001b[0m\n",
      "\u001b[34m\u001b[1mWRN - Warning! For coherency we set scale upper bounds = [7.04365,6.91888,6.81422,6.67021,6.68359,6.78326,7.57666,6.78734,6.92692,6.5869]#10\u001b[0m\n",
      "\u001b[34m\u001b[1mWRN - Warning! For coherency we set scale upper bounds = [7.04392,6.99565,6.81422,6.67021,6.73579,6.78326,7.57666,6.78734,6.92692,6.5869]#10\u001b[0m\n"
     ]
    },
    {
     "name": "stdout",
     "output_type": "stream",
     "text": [
      "Fitting MAPIE ('J+GP', 1.5, 1)\n"
     ]
    },
    {
     "name": "stderr",
     "output_type": "stream",
     "text": [
      "\u001b[34m\u001b[1mWRN - (previous message repeated 3 times)\u001b[0m\n",
      "\u001b[34m\u001b[1mWRN - Warning! For coherency we set scale upper bounds = [7.04392,6.99565,6.81422,6.67021,6.6169,6.78326,7.57666,6.78734,6.84665,6.48673]#10\u001b[0m\n",
      "\u001b[34m\u001b[1mWRN - Warning! For coherency we set scale upper bounds = [7.04392,6.99565,6.77364,6.66584,6.73579,6.78326,7.57666,6.77061,6.92692,6.5869]#10\u001b[0m\n",
      "\u001b[34m\u001b[1mWRN - Warning! For coherency we set scale upper bounds = [7.00126,6.95358,6.81422,6.59889,6.73579,6.78326,7.54532,6.71692,6.92692,6.5869]#10\u001b[0m\n",
      "\u001b[34m\u001b[1mWRN - Warning! For coherency we set scale upper bounds = [7.04392,6.99565,6.81422,6.67021,6.73579,6.70357,7.57666,6.78734,6.8971,6.5869]#10\u001b[0m\n",
      "\u001b[34m\u001b[1mWRN - Warning! For coherency we set scale upper bounds = [7.04392,6.99565,6.81422,6.67021,6.73579,6.78326,7.45123,6.78734,6.92692,6.5869]#10\u001b[0m\n",
      "\u001b[34m\u001b[1mWRN - Warning! For coherency we set scale upper bounds = [7.04392,6.99565,6.81422,6.67021,6.73579,6.78326,7.57666,6.78734,6.92692,6.5869]#10\u001b[0m\n",
      "\u001b[34m\u001b[1mWRN - Warning! For coherency we set scale upper bounds = [7.04365,6.91888,6.81422,6.67021,6.68359,6.78326,7.57666,6.78734,6.92692,6.5869]#10\u001b[0m\n",
      "\u001b[34m\u001b[1mWRN - Warning! For coherency we set scale upper bounds = [7.04392,6.99565,6.81422,6.67021,6.73579,6.78326,7.57666,6.78734,6.92692,6.5869]#10\u001b[0m\n"
     ]
    },
    {
     "name": "stdout",
     "output_type": "stream",
     "text": [
      "Fitting MAPIE ('J+GP', 1.5, 1.5)\n"
     ]
    },
    {
     "name": "stderr",
     "output_type": "stream",
     "text": [
      "\u001b[34m\u001b[1mWRN - (previous message repeated 3 times)\u001b[0m\n",
      "\u001b[34m\u001b[1mWRN - Warning! For coherency we set scale upper bounds = [7.04392,6.99565,6.81422,6.67021,6.6169,6.78326,7.57666,6.78734,6.84665,6.48673]#10\u001b[0m\n",
      "\u001b[34m\u001b[1mWRN - Warning! For coherency we set scale upper bounds = [7.04392,6.99565,6.77364,6.66584,6.73579,6.78326,7.57666,6.77061,6.92692,6.5869]#10\u001b[0m\n",
      "\u001b[34m\u001b[1mWRN - Warning! For coherency we set scale upper bounds = [7.00126,6.95358,6.81422,6.59889,6.73579,6.78326,7.54532,6.71692,6.92692,6.5869]#10\u001b[0m\n",
      "\u001b[34m\u001b[1mWRN - Warning! For coherency we set scale upper bounds = [7.04392,6.99565,6.81422,6.67021,6.73579,6.70357,7.57666,6.78734,6.8971,6.5869]#10\u001b[0m\n",
      "\u001b[34m\u001b[1mWRN - Warning! For coherency we set scale upper bounds = [7.04392,6.99565,6.81422,6.67021,6.73579,6.78326,7.45123,6.78734,6.92692,6.5869]#10\u001b[0m\n",
      "\u001b[34m\u001b[1mWRN - Warning! For coherency we set scale upper bounds = [7.04392,6.99565,6.81422,6.67021,6.73579,6.78326,7.57666,6.78734,6.92692,6.5869]#10\u001b[0m\n",
      "\u001b[34m\u001b[1mWRN - Warning! For coherency we set scale upper bounds = [7.04365,6.91888,6.81422,6.67021,6.68359,6.78326,7.57666,6.78734,6.92692,6.5869]#10\u001b[0m\n",
      "\u001b[34m\u001b[1mWRN - Warning! For coherency we set scale upper bounds = [7.04392,6.99565,6.81422,6.67021,6.73579,6.78326,7.57666,6.78734,6.92692,6.5869]#10\u001b[0m\n"
     ]
    },
    {
     "name": "stdout",
     "output_type": "stream",
     "text": [
      "Fitting MAPIE ('J+GP', 2.5, 0.5)\n"
     ]
    },
    {
     "name": "stderr",
     "output_type": "stream",
     "text": [
      "\u001b[34m\u001b[1mWRN - (previous message repeated 3 times)\u001b[0m\n",
      "\u001b[34m\u001b[1mWRN - Warning! For coherency we set scale upper bounds = [7.04392,6.99565,6.81422,6.67021,6.6169,6.78326,7.57666,6.78734,6.84665,6.48673]#10\u001b[0m\n",
      "\u001b[34m\u001b[1mWRN - Warning! For coherency we set scale upper bounds = [7.04392,6.99565,6.77364,6.66584,6.73579,6.78326,7.57666,6.77061,6.92692,6.5869]#10\u001b[0m\n",
      "\u001b[34m\u001b[1mWRN - Warning! For coherency we set scale upper bounds = [7.00126,6.95358,6.81422,6.59889,6.73579,6.78326,7.54532,6.71692,6.92692,6.5869]#10\u001b[0m\n",
      "\u001b[34m\u001b[1mWRN - Warning! For coherency we set scale upper bounds = [7.04392,6.99565,6.81422,6.67021,6.73579,6.70357,7.57666,6.78734,6.8971,6.5869]#10\u001b[0m\n",
      "\u001b[34m\u001b[1mWRN - Warning! For coherency we set scale upper bounds = [7.04392,6.99565,6.81422,6.67021,6.73579,6.78326,7.45123,6.78734,6.92692,6.5869]#10\u001b[0m\n",
      "\u001b[34m\u001b[1mWRN - Warning! For coherency we set scale upper bounds = [7.04392,6.99565,6.81422,6.67021,6.73579,6.78326,7.57666,6.78734,6.92692,6.5869]#10\u001b[0m\n",
      "\u001b[34m\u001b[1mWRN - Warning! For coherency we set scale upper bounds = [7.04365,6.91888,6.81422,6.67021,6.68359,6.78326,7.57666,6.78734,6.92692,6.5869]#10\u001b[0m\n",
      "\u001b[34m\u001b[1mWRN - Warning! For coherency we set scale upper bounds = [7.04392,6.99565,6.81422,6.67021,6.73579,6.78326,7.57666,6.78734,6.92692,6.5869]#10\u001b[0m\n"
     ]
    },
    {
     "name": "stdout",
     "output_type": "stream",
     "text": [
      "Fitting MAPIE ('J+GP', 2.5, 1)\n"
     ]
    },
    {
     "name": "stderr",
     "output_type": "stream",
     "text": [
      "\u001b[34m\u001b[1mWRN - (previous message repeated 3 times)\u001b[0m\n",
      "\u001b[34m\u001b[1mWRN - Warning! For coherency we set scale upper bounds = [7.04392,6.99565,6.81422,6.67021,6.6169,6.78326,7.57666,6.78734,6.84665,6.48673]#10\u001b[0m\n",
      "\u001b[34m\u001b[1mWRN - Warning! For coherency we set scale upper bounds = [7.04392,6.99565,6.77364,6.66584,6.73579,6.78326,7.57666,6.77061,6.92692,6.5869]#10\u001b[0m\n",
      "\u001b[34m\u001b[1mWRN - Warning! For coherency we set scale upper bounds = [7.00126,6.95358,6.81422,6.59889,6.73579,6.78326,7.54532,6.71692,6.92692,6.5869]#10\u001b[0m\n",
      "\u001b[34m\u001b[1mWRN - Warning! For coherency we set scale upper bounds = [7.04392,6.99565,6.81422,6.67021,6.73579,6.70357,7.57666,6.78734,6.8971,6.5869]#10\u001b[0m\n",
      "\u001b[34m\u001b[1mWRN - Warning! For coherency we set scale upper bounds = [7.04392,6.99565,6.81422,6.67021,6.73579,6.78326,7.45123,6.78734,6.92692,6.5869]#10\u001b[0m\n",
      "\u001b[34m\u001b[1mWRN - Warning! For coherency we set scale upper bounds = [7.04392,6.99565,6.81422,6.67021,6.73579,6.78326,7.57666,6.78734,6.92692,6.5869]#10\u001b[0m\n",
      "\u001b[34m\u001b[1mWRN - Warning! For coherency we set scale upper bounds = [7.04365,6.91888,6.81422,6.67021,6.68359,6.78326,7.57666,6.78734,6.92692,6.5869]#10\u001b[0m\n",
      "\u001b[34m\u001b[1mWRN - Warning! For coherency we set scale upper bounds = [7.04392,6.99565,6.81422,6.67021,6.73579,6.78326,7.57666,6.78734,6.92692,6.5869]#10\u001b[0m\n"
     ]
    },
    {
     "name": "stdout",
     "output_type": "stream",
     "text": [
      "Fitting MAPIE ('J+GP', 2.5, 1.5)\n"
     ]
    },
    {
     "name": "stderr",
     "output_type": "stream",
     "text": [
      "\u001b[34m\u001b[1mWRN - (previous message repeated 3 times)\u001b[0m\n",
      "\u001b[34m\u001b[1mWRN - Warning! For coherency we set scale upper bounds = [7.04392,6.99565,6.81422,6.67021,6.6169,6.78326,7.57666,6.78734,6.84665,6.48673]#10\u001b[0m\n",
      "\u001b[34m\u001b[1mWRN - Warning! For coherency we set scale upper bounds = [7.04392,6.99565,6.77364,6.66584,6.73579,6.78326,7.57666,6.77061,6.92692,6.5869]#10\u001b[0m\n",
      "\u001b[34m\u001b[1mWRN - Warning! For coherency we set scale upper bounds = [7.00126,6.95358,6.81422,6.59889,6.73579,6.78326,7.54532,6.71692,6.92692,6.5869]#10\u001b[0m\n",
      "\u001b[34m\u001b[1mWRN - Warning! For coherency we set scale upper bounds = [7.04392,6.99565,6.81422,6.67021,6.73579,6.70357,7.57666,6.78734,6.8971,6.5869]#10\u001b[0m\n",
      "\u001b[34m\u001b[1mWRN - Warning! For coherency we set scale upper bounds = [7.04392,6.99565,6.81422,6.67021,6.73579,6.78326,7.45123,6.78734,6.92692,6.5869]#10\u001b[0m\n",
      "\u001b[34m\u001b[1mWRN - Warning! For coherency we set scale upper bounds = [7.04392,6.99565,6.81422,6.67021,6.73579,6.78326,7.57666,6.78734,6.92692,6.5869]#10\u001b[0m\n",
      "\u001b[34m\u001b[1mWRN - Warning! For coherency we set scale upper bounds = [7.04365,6.91888,6.81422,6.67021,6.68359,6.78326,7.57666,6.78734,6.92692,6.5869]#10\u001b[0m\n",
      "\u001b[34m\u001b[1mWRN - Warning! For coherency we set scale upper bounds = [7.04392,6.99565,6.81422,6.67021,6.73579,6.78326,7.57666,6.78734,6.92692,6.5869]#10\u001b[0m\n"
     ]
    },
    {
     "name": "stdout",
     "output_type": "stream",
     "text": [
      "Fitting MAPIE ('J-minmax-GP', 0.5, 0.5)\n"
     ]
    },
    {
     "name": "stderr",
     "output_type": "stream",
     "text": [
      "\u001b[34m\u001b[1mWRN - (previous message repeated 3 times)\u001b[0m\n",
      "\u001b[34m\u001b[1mWRN - Warning! For coherency we set scale upper bounds = [7.04392,6.99565,6.81422,6.67021,6.6169,6.78326,7.57666,6.78734,6.84665,6.48673]#10\u001b[0m\n",
      "\u001b[34m\u001b[1mWRN - Warning! For coherency we set scale upper bounds = [7.04392,6.99565,6.77364,6.66584,6.73579,6.78326,7.57666,6.77061,6.92692,6.5869]#10\u001b[0m\n",
      "\u001b[34m\u001b[1mWRN - Warning! For coherency we set scale upper bounds = [7.00126,6.95358,6.81422,6.59889,6.73579,6.78326,7.54532,6.71692,6.92692,6.5869]#10\u001b[0m\n",
      "\u001b[34m\u001b[1mWRN - Warning! For coherency we set scale upper bounds = [7.04392,6.99565,6.81422,6.67021,6.73579,6.70357,7.57666,6.78734,6.8971,6.5869]#10\u001b[0m\n",
      "\u001b[34m\u001b[1mWRN - Warning! For coherency we set scale upper bounds = [7.04392,6.99565,6.81422,6.67021,6.73579,6.78326,7.45123,6.78734,6.92692,6.5869]#10\u001b[0m\n",
      "\u001b[34m\u001b[1mWRN - Warning! For coherency we set scale upper bounds = [7.04392,6.99565,6.81422,6.67021,6.73579,6.78326,7.57666,6.78734,6.92692,6.5869]#10\u001b[0m\n",
      "\u001b[34m\u001b[1mWRN - Warning! For coherency we set scale upper bounds = [7.04365,6.91888,6.81422,6.67021,6.68359,6.78326,7.57666,6.78734,6.92692,6.5869]#10\u001b[0m\n",
      "\u001b[34m\u001b[1mWRN - Warning! For coherency we set scale upper bounds = [7.04392,6.99565,6.81422,6.67021,6.73579,6.78326,7.57666,6.78734,6.92692,6.5869]#10\u001b[0m\n"
     ]
    },
    {
     "name": "stdout",
     "output_type": "stream",
     "text": [
      "Fitting MAPIE ('J-minmax-GP', 0.5, 1)\n"
     ]
    },
    {
     "name": "stderr",
     "output_type": "stream",
     "text": [
      "\u001b[34m\u001b[1mWRN - (previous message repeated 3 times)\u001b[0m\n",
      "\u001b[34m\u001b[1mWRN - Warning! For coherency we set scale upper bounds = [7.04392,6.99565,6.81422,6.67021,6.6169,6.78326,7.57666,6.78734,6.84665,6.48673]#10\u001b[0m\n",
      "\u001b[34m\u001b[1mWRN - Warning! For coherency we set scale upper bounds = [7.04392,6.99565,6.77364,6.66584,6.73579,6.78326,7.57666,6.77061,6.92692,6.5869]#10\u001b[0m\n",
      "\u001b[34m\u001b[1mWRN - Warning! For coherency we set scale upper bounds = [7.00126,6.95358,6.81422,6.59889,6.73579,6.78326,7.54532,6.71692,6.92692,6.5869]#10\u001b[0m\n",
      "\u001b[34m\u001b[1mWRN - Warning! For coherency we set scale upper bounds = [7.04392,6.99565,6.81422,6.67021,6.73579,6.70357,7.57666,6.78734,6.8971,6.5869]#10\u001b[0m\n",
      "\u001b[34m\u001b[1mWRN - Warning! For coherency we set scale upper bounds = [7.04392,6.99565,6.81422,6.67021,6.73579,6.78326,7.45123,6.78734,6.92692,6.5869]#10\u001b[0m\n",
      "\u001b[34m\u001b[1mWRN - Warning! For coherency we set scale upper bounds = [7.04392,6.99565,6.81422,6.67021,6.73579,6.78326,7.57666,6.78734,6.92692,6.5869]#10\u001b[0m\n",
      "\u001b[34m\u001b[1mWRN - Warning! For coherency we set scale upper bounds = [7.04365,6.91888,6.81422,6.67021,6.68359,6.78326,7.57666,6.78734,6.92692,6.5869]#10\u001b[0m\n",
      "\u001b[34m\u001b[1mWRN - Warning! For coherency we set scale upper bounds = [7.04392,6.99565,6.81422,6.67021,6.73579,6.78326,7.57666,6.78734,6.92692,6.5869]#10\u001b[0m\n"
     ]
    },
    {
     "name": "stdout",
     "output_type": "stream",
     "text": [
      "Fitting MAPIE ('J-minmax-GP', 0.5, 1.5)\n"
     ]
    },
    {
     "name": "stderr",
     "output_type": "stream",
     "text": [
      "\u001b[34m\u001b[1mWRN - (previous message repeated 3 times)\u001b[0m\n",
      "\u001b[34m\u001b[1mWRN - Warning! For coherency we set scale upper bounds = [7.04392,6.99565,6.81422,6.67021,6.6169,6.78326,7.57666,6.78734,6.84665,6.48673]#10\u001b[0m\n",
      "\u001b[34m\u001b[1mWRN - Warning! For coherency we set scale upper bounds = [7.04392,6.99565,6.77364,6.66584,6.73579,6.78326,7.57666,6.77061,6.92692,6.5869]#10\u001b[0m\n",
      "\u001b[34m\u001b[1mWRN - Warning! For coherency we set scale upper bounds = [7.00126,6.95358,6.81422,6.59889,6.73579,6.78326,7.54532,6.71692,6.92692,6.5869]#10\u001b[0m\n",
      "\u001b[34m\u001b[1mWRN - Warning! For coherency we set scale upper bounds = [7.04392,6.99565,6.81422,6.67021,6.73579,6.70357,7.57666,6.78734,6.8971,6.5869]#10\u001b[0m\n",
      "\u001b[34m\u001b[1mWRN - Warning! For coherency we set scale upper bounds = [7.04392,6.99565,6.81422,6.67021,6.73579,6.78326,7.45123,6.78734,6.92692,6.5869]#10\u001b[0m\n",
      "\u001b[34m\u001b[1mWRN - Warning! For coherency we set scale upper bounds = [7.04392,6.99565,6.81422,6.67021,6.73579,6.78326,7.57666,6.78734,6.92692,6.5869]#10\u001b[0m\n",
      "\u001b[34m\u001b[1mWRN - Warning! For coherency we set scale upper bounds = [7.04365,6.91888,6.81422,6.67021,6.68359,6.78326,7.57666,6.78734,6.92692,6.5869]#10\u001b[0m\n",
      "\u001b[34m\u001b[1mWRN - Warning! For coherency we set scale upper bounds = [7.04392,6.99565,6.81422,6.67021,6.73579,6.78326,7.57666,6.78734,6.92692,6.5869]#10\u001b[0m\n"
     ]
    },
    {
     "name": "stdout",
     "output_type": "stream",
     "text": [
      "Fitting MAPIE ('J-minmax-GP', 1.5, 0.5)\n"
     ]
    },
    {
     "name": "stderr",
     "output_type": "stream",
     "text": [
      "\u001b[34m\u001b[1mWRN - (previous message repeated 3 times)\u001b[0m\n",
      "\u001b[34m\u001b[1mWRN - Warning! For coherency we set scale upper bounds = [7.04392,6.99565,6.81422,6.67021,6.6169,6.78326,7.57666,6.78734,6.84665,6.48673]#10\u001b[0m\n",
      "\u001b[34m\u001b[1mWRN - Warning! For coherency we set scale upper bounds = [7.04392,6.99565,6.77364,6.66584,6.73579,6.78326,7.57666,6.77061,6.92692,6.5869]#10\u001b[0m\n",
      "\u001b[34m\u001b[1mWRN - Warning! For coherency we set scale upper bounds = [7.00126,6.95358,6.81422,6.59889,6.73579,6.78326,7.54532,6.71692,6.92692,6.5869]#10\u001b[0m\n",
      "\u001b[34m\u001b[1mWRN - Warning! For coherency we set scale upper bounds = [7.04392,6.99565,6.81422,6.67021,6.73579,6.70357,7.57666,6.78734,6.8971,6.5869]#10\u001b[0m\n",
      "\u001b[34m\u001b[1mWRN - Warning! For coherency we set scale upper bounds = [7.04392,6.99565,6.81422,6.67021,6.73579,6.78326,7.45123,6.78734,6.92692,6.5869]#10\u001b[0m\n",
      "\u001b[34m\u001b[1mWRN - Warning! For coherency we set scale upper bounds = [7.04392,6.99565,6.81422,6.67021,6.73579,6.78326,7.57666,6.78734,6.92692,6.5869]#10\u001b[0m\n",
      "\u001b[34m\u001b[1mWRN - Warning! For coherency we set scale upper bounds = [7.04365,6.91888,6.81422,6.67021,6.68359,6.78326,7.57666,6.78734,6.92692,6.5869]#10\u001b[0m\n",
      "\u001b[34m\u001b[1mWRN - Warning! For coherency we set scale upper bounds = [7.04392,6.99565,6.81422,6.67021,6.73579,6.78326,7.57666,6.78734,6.92692,6.5869]#10\u001b[0m\n"
     ]
    },
    {
     "name": "stdout",
     "output_type": "stream",
     "text": [
      "Fitting MAPIE ('J-minmax-GP', 1.5, 1)\n"
     ]
    },
    {
     "name": "stderr",
     "output_type": "stream",
     "text": [
      "\u001b[34m\u001b[1mWRN - (previous message repeated 3 times)\u001b[0m\n",
      "\u001b[34m\u001b[1mWRN - Warning! For coherency we set scale upper bounds = [7.04392,6.99565,6.81422,6.67021,6.6169,6.78326,7.57666,6.78734,6.84665,6.48673]#10\u001b[0m\n",
      "\u001b[34m\u001b[1mWRN - Warning! For coherency we set scale upper bounds = [7.04392,6.99565,6.77364,6.66584,6.73579,6.78326,7.57666,6.77061,6.92692,6.5869]#10\u001b[0m\n",
      "\u001b[34m\u001b[1mWRN - Warning! For coherency we set scale upper bounds = [7.00126,6.95358,6.81422,6.59889,6.73579,6.78326,7.54532,6.71692,6.92692,6.5869]#10\u001b[0m\n",
      "\u001b[34m\u001b[1mWRN - Warning! For coherency we set scale upper bounds = [7.04392,6.99565,6.81422,6.67021,6.73579,6.70357,7.57666,6.78734,6.8971,6.5869]#10\u001b[0m\n",
      "\u001b[34m\u001b[1mWRN - Warning! For coherency we set scale upper bounds = [7.04392,6.99565,6.81422,6.67021,6.73579,6.78326,7.45123,6.78734,6.92692,6.5869]#10\u001b[0m\n",
      "\u001b[34m\u001b[1mWRN - Warning! For coherency we set scale upper bounds = [7.04392,6.99565,6.81422,6.67021,6.73579,6.78326,7.57666,6.78734,6.92692,6.5869]#10\u001b[0m\n",
      "\u001b[34m\u001b[1mWRN - Warning! For coherency we set scale upper bounds = [7.04365,6.91888,6.81422,6.67021,6.68359,6.78326,7.57666,6.78734,6.92692,6.5869]#10\u001b[0m\n",
      "\u001b[34m\u001b[1mWRN - Warning! For coherency we set scale upper bounds = [7.04392,6.99565,6.81422,6.67021,6.73579,6.78326,7.57666,6.78734,6.92692,6.5869]#10\u001b[0m\n"
     ]
    },
    {
     "name": "stdout",
     "output_type": "stream",
     "text": [
      "Fitting MAPIE ('J-minmax-GP', 1.5, 1.5)\n"
     ]
    },
    {
     "name": "stderr",
     "output_type": "stream",
     "text": [
      "\u001b[34m\u001b[1mWRN - (previous message repeated 3 times)\u001b[0m\n",
      "\u001b[34m\u001b[1mWRN - Warning! For coherency we set scale upper bounds = [7.04392,6.99565,6.81422,6.67021,6.6169,6.78326,7.57666,6.78734,6.84665,6.48673]#10\u001b[0m\n",
      "\u001b[34m\u001b[1mWRN - Warning! For coherency we set scale upper bounds = [7.04392,6.99565,6.77364,6.66584,6.73579,6.78326,7.57666,6.77061,6.92692,6.5869]#10\u001b[0m\n",
      "\u001b[34m\u001b[1mWRN - Warning! For coherency we set scale upper bounds = [7.00126,6.95358,6.81422,6.59889,6.73579,6.78326,7.54532,6.71692,6.92692,6.5869]#10\u001b[0m\n",
      "\u001b[34m\u001b[1mWRN - Warning! For coherency we set scale upper bounds = [7.04392,6.99565,6.81422,6.67021,6.73579,6.70357,7.57666,6.78734,6.8971,6.5869]#10\u001b[0m\n",
      "\u001b[34m\u001b[1mWRN - Warning! For coherency we set scale upper bounds = [7.04392,6.99565,6.81422,6.67021,6.73579,6.78326,7.45123,6.78734,6.92692,6.5869]#10\u001b[0m\n",
      "\u001b[34m\u001b[1mWRN - Warning! For coherency we set scale upper bounds = [7.04392,6.99565,6.81422,6.67021,6.73579,6.78326,7.57666,6.78734,6.92692,6.5869]#10\u001b[0m\n",
      "\u001b[34m\u001b[1mWRN - Warning! For coherency we set scale upper bounds = [7.04365,6.91888,6.81422,6.67021,6.68359,6.78326,7.57666,6.78734,6.92692,6.5869]#10\u001b[0m\n",
      "\u001b[34m\u001b[1mWRN - Warning! For coherency we set scale upper bounds = [7.04392,6.99565,6.81422,6.67021,6.73579,6.78326,7.57666,6.78734,6.92692,6.5869]#10\u001b[0m\n"
     ]
    },
    {
     "name": "stdout",
     "output_type": "stream",
     "text": [
      "Fitting MAPIE ('J-minmax-GP', 2.5, 0.5)\n"
     ]
    },
    {
     "name": "stderr",
     "output_type": "stream",
     "text": [
      "\u001b[34m\u001b[1mWRN - (previous message repeated 3 times)\u001b[0m\n",
      "\u001b[34m\u001b[1mWRN - Warning! For coherency we set scale upper bounds = [7.04392,6.99565,6.81422,6.67021,6.6169,6.78326,7.57666,6.78734,6.84665,6.48673]#10\u001b[0m\n",
      "\u001b[34m\u001b[1mWRN - Warning! For coherency we set scale upper bounds = [7.04392,6.99565,6.77364,6.66584,6.73579,6.78326,7.57666,6.77061,6.92692,6.5869]#10\u001b[0m\n",
      "\u001b[34m\u001b[1mWRN - Warning! For coherency we set scale upper bounds = [7.00126,6.95358,6.81422,6.59889,6.73579,6.78326,7.54532,6.71692,6.92692,6.5869]#10\u001b[0m\n",
      "\u001b[34m\u001b[1mWRN - Warning! For coherency we set scale upper bounds = [7.04392,6.99565,6.81422,6.67021,6.73579,6.70357,7.57666,6.78734,6.8971,6.5869]#10\u001b[0m\n",
      "\u001b[34m\u001b[1mWRN - Warning! For coherency we set scale upper bounds = [7.04392,6.99565,6.81422,6.67021,6.73579,6.78326,7.45123,6.78734,6.92692,6.5869]#10\u001b[0m\n",
      "\u001b[34m\u001b[1mWRN - Warning! For coherency we set scale upper bounds = [7.04392,6.99565,6.81422,6.67021,6.73579,6.78326,7.57666,6.78734,6.92692,6.5869]#10\u001b[0m\n",
      "\u001b[34m\u001b[1mWRN - Warning! For coherency we set scale upper bounds = [7.04365,6.91888,6.81422,6.67021,6.68359,6.78326,7.57666,6.78734,6.92692,6.5869]#10\u001b[0m\n",
      "\u001b[34m\u001b[1mWRN - Warning! For coherency we set scale upper bounds = [7.04392,6.99565,6.81422,6.67021,6.73579,6.78326,7.57666,6.78734,6.92692,6.5869]#10\u001b[0m\n"
     ]
    },
    {
     "name": "stdout",
     "output_type": "stream",
     "text": [
      "Fitting MAPIE ('J-minmax-GP', 2.5, 1)\n"
     ]
    },
    {
     "name": "stderr",
     "output_type": "stream",
     "text": [
      "\u001b[34m\u001b[1mWRN - (previous message repeated 3 times)\u001b[0m\n",
      "\u001b[34m\u001b[1mWRN - Warning! For coherency we set scale upper bounds = [7.04392,6.99565,6.81422,6.67021,6.6169,6.78326,7.57666,6.78734,6.84665,6.48673]#10\u001b[0m\n",
      "\u001b[34m\u001b[1mWRN - Warning! For coherency we set scale upper bounds = [7.04392,6.99565,6.77364,6.66584,6.73579,6.78326,7.57666,6.77061,6.92692,6.5869]#10\u001b[0m\n",
      "\u001b[34m\u001b[1mWRN - Warning! For coherency we set scale upper bounds = [7.00126,6.95358,6.81422,6.59889,6.73579,6.78326,7.54532,6.71692,6.92692,6.5869]#10\u001b[0m\n",
      "\u001b[34m\u001b[1mWRN - Warning! For coherency we set scale upper bounds = [7.04392,6.99565,6.81422,6.67021,6.73579,6.70357,7.57666,6.78734,6.8971,6.5869]#10\u001b[0m\n",
      "\u001b[34m\u001b[1mWRN - Warning! For coherency we set scale upper bounds = [7.04392,6.99565,6.81422,6.67021,6.73579,6.78326,7.45123,6.78734,6.92692,6.5869]#10\u001b[0m\n",
      "\u001b[34m\u001b[1mWRN - Warning! For coherency we set scale upper bounds = [7.04392,6.99565,6.81422,6.67021,6.73579,6.78326,7.57666,6.78734,6.92692,6.5869]#10\u001b[0m\n",
      "\u001b[34m\u001b[1mWRN - Warning! For coherency we set scale upper bounds = [7.04365,6.91888,6.81422,6.67021,6.68359,6.78326,7.57666,6.78734,6.92692,6.5869]#10\u001b[0m\n",
      "\u001b[34m\u001b[1mWRN - Warning! For coherency we set scale upper bounds = [7.04392,6.99565,6.81422,6.67021,6.73579,6.78326,7.57666,6.78734,6.92692,6.5869]#10\u001b[0m\n"
     ]
    },
    {
     "name": "stdout",
     "output_type": "stream",
     "text": [
      "Fitting MAPIE ('J-minmax-GP', 2.5, 1.5)\n"
     ]
    },
    {
     "name": "stderr",
     "output_type": "stream",
     "text": [
      "\u001b[34m\u001b[1mWRN - (previous message repeated 3 times)\u001b[0m\n",
      "\u001b[34m\u001b[1mWRN - Warning! For coherency we set scale upper bounds = [7.04392,6.99565,6.81422,6.67021,6.6169,6.78326,7.57666,6.78734,6.84665,6.48673]#10\u001b[0m\n",
      "\u001b[34m\u001b[1mWRN - Warning! For coherency we set scale upper bounds = [7.04392,6.99565,6.77364,6.66584,6.73579,6.78326,7.57666,6.77061,6.92692,6.5869]#10\u001b[0m\n",
      "\u001b[34m\u001b[1mWRN - Warning! For coherency we set scale upper bounds = [7.00126,6.95358,6.81422,6.59889,6.73579,6.78326,7.54532,6.71692,6.92692,6.5869]#10\u001b[0m\n",
      "\u001b[34m\u001b[1mWRN - Warning! For coherency we set scale upper bounds = [7.04392,6.99565,6.81422,6.67021,6.73579,6.70357,7.57666,6.78734,6.8971,6.5869]#10\u001b[0m\n",
      "\u001b[34m\u001b[1mWRN - Warning! For coherency we set scale upper bounds = [7.04392,6.99565,6.81422,6.67021,6.73579,6.78326,7.45123,6.78734,6.92692,6.5869]#10\u001b[0m\n",
      "\u001b[34m\u001b[1mWRN - Warning! For coherency we set scale upper bounds = [7.04392,6.99565,6.81422,6.67021,6.73579,6.78326,7.57666,6.78734,6.92692,6.5869]#10\u001b[0m\n",
      "\u001b[34m\u001b[1mWRN - Warning! For coherency we set scale upper bounds = [7.04365,6.91888,6.81422,6.67021,6.68359,6.78326,7.57666,6.78734,6.92692,6.5869]#10\u001b[0m\n",
      "\u001b[34m\u001b[1mWRN - Warning! For coherency we set scale upper bounds = [7.04392,6.99565,6.81422,6.67021,6.73579,6.78326,7.57666,6.78734,6.92692,6.5869]#10\u001b[0m\n"
     ]
    }
   ],
   "source": [
    "for model_name, model in models.items():\n",
    "    if model_name[0] != \"GP\":\n",
    "        print(\"Fitting MAPIE\", model_name)\n",
    "        model[\"mapie_estimator\"].fit(X_train_scale, y_train)\n"
   ]
  },
  {
   "cell_type": "markdown",
   "metadata": {},
   "source": [
    "# Coverage"
   ]
  },
  {
   "cell_type": "code",
   "execution_count": 17,
   "metadata": {},
   "outputs": [],
   "source": [
    "ALPHA = np.array([.1, .05, .01])\n",
    "q_alpha_min = scipy.stats.norm.ppf(ALPHA / 2)\n",
    "q_alpha_max = scipy.stats.norm.ppf(1 - ALPHA / 2)\n",
    "for model_name, model in models.items():\n",
    "    if model_name[0] == \"GP\":\n",
    "        y_mean, y_std = model[\"estimator\"].predict(X_test_scale, return_std=True)\n",
    "        y_pss_gp = np.concatenate(\n",
    "            [\n",
    "                (y_mean.reshape(-1, 1) + y_std.reshape(-1, 1) * q_alpha_min.reshape(1, -1))[:, np.newaxis, :],\n",
    "                (y_mean.reshape(-1, 1) + y_std.reshape(-1, 1) * q_alpha_max.reshape(1, -1))[:, np.newaxis, :]\n",
    "            ],\n",
    "            axis=1\n",
    "        )\n",
    "        model[\"y_pss\"] = y_pss_gp"
   ]
  },
  {
   "cell_type": "code",
   "execution_count": 18,
   "metadata": {},
   "outputs": [
    {
     "name": "stdout",
     "output_type": "stream",
     "text": [
      "Predict MAPIE ('J+', 0.5, 1)\n",
      "Predict MAPIE ('J+', 1.5, 1)\n",
      "Predict MAPIE ('J+', 2.5, 1)\n",
      "Predict MAPIE ('J+GP', 0.5, 0.5)\n",
      "Predict MAPIE ('J+GP', 0.5, 1)\n",
      "Predict MAPIE ('J+GP', 0.5, 1.5)\n",
      "Predict MAPIE ('J+GP', 1.5, 0.5)\n",
      "Predict MAPIE ('J+GP', 1.5, 1)\n",
      "Predict MAPIE ('J+GP', 1.5, 1.5)\n",
      "Predict MAPIE ('J+GP', 2.5, 0.5)\n",
      "Predict MAPIE ('J+GP', 2.5, 1)\n",
      "Predict MAPIE ('J+GP', 2.5, 1.5)\n",
      "Predict MAPIE ('J-minmax-GP', 0.5, 0.5)\n",
      "Predict MAPIE ('J-minmax-GP', 0.5, 1)\n",
      "Predict MAPIE ('J-minmax-GP', 0.5, 1.5)\n",
      "Predict MAPIE ('J-minmax-GP', 1.5, 0.5)\n",
      "Predict MAPIE ('J-minmax-GP', 1.5, 1)\n",
      "Predict MAPIE ('J-minmax-GP', 1.5, 1.5)\n",
      "Predict MAPIE ('J-minmax-GP', 2.5, 0.5)\n",
      "Predict MAPIE ('J-minmax-GP', 2.5, 1)\n",
      "Predict MAPIE ('J-minmax-GP', 2.5, 1.5)\n"
     ]
    }
   ],
   "source": [
    "for model_name, model in models.items():\n",
    "    if model_name[0] != \"GP\":\n",
    "        print(\"Predict MAPIE\", model_name)\n",
    "        _, y_pss = model[\"mapie_estimator\"].predict(X_test_scale, alpha=ALPHA)\n",
    "        model[\"y_pss\"] = y_pss\n"
   ]
  },
  {
   "cell_type": "code",
   "execution_count": 19,
   "metadata": {},
   "outputs": [],
   "source": [
    "for model_name, model in models.items():\n",
    "    model[\"coverage\"] = [\n",
    "        regression_coverage_score_v2(y_test, model[\"y_pss\"][:, :, i])\n",
    "        for i, _ in enumerate(ALPHA)\n",
    "    ]\n",
    "    model[\"average_width\"] = [\n",
    "        regression_mean_width_score(\n",
    "            model[\"y_pss\"][:, 1, i], model[\"y_pss\"][:, 0, i]\n",
    "        )\n",
    "        for i, _ in enumerate(ALPHA)\n",
    "    ]\n",
    "    model[\"median_width\"] = [\n",
    "        np.median(np.abs(\n",
    "             model[\"y_pss\"][:, 1, i] -  model[\"y_pss\"][:, 0, i]\n",
    "        ))\n",
    "        for i, _ in enumerate(ALPHA)\n",
    "    ]\n",
    "    model[\"var_width\"] = [\n",
    "        np.std(np.abs(\n",
    "             model[\"y_pss\"][:, 1, i] -  model[\"y_pss\"][:, 0, i]\n",
    "        ))\n",
    "        for i, _ in enumerate(ALPHA)\n",
    "    ]\n"
   ]
  },
  {
   "cell_type": "markdown",
   "metadata": {},
   "source": [
    "# Correlation between width of the Prediction Interval and the error of the model\n"
   ]
  },
  {
   "cell_type": "code",
   "execution_count": 20,
   "metadata": {},
   "outputs": [],
   "source": [
    "for model_name, model in models.items():\n",
    "    if model_name[0] != \"GP\":\n",
    "        model[\"errors\"] = np.abs(model[\"mapie_estimator\"].predict(X_test_scale, alpha=None) - y_test)\n",
    "        model[\"width\"] = np.abs(model[\"y_pss\"][:, 0, :] - model[\"y_pss\"][:, 1, :])\n",
    "    else:\n",
    "        model[\"errors\"] = np.abs(model[\"estimator\"].predict(X_test_scale) - y_test)\n",
    "        model[\"width\"] = np.abs(model[\"y_pss\"][:, 0, :] - model[\"y_pss\"][:, 1, :])\n"
   ]
  },
  {
   "cell_type": "code",
   "execution_count": 21,
   "metadata": {},
   "outputs": [
    {
     "data": {
      "text/plain": [
       "(40, 3)"
      ]
     },
     "execution_count": 21,
     "metadata": {},
     "output_type": "execute_result"
    }
   ],
   "source": [
    "model[\"width\"].shape"
   ]
  },
  {
   "cell_type": "code",
   "execution_count": 22,
   "metadata": {},
   "outputs": [
    {
     "name": "stderr",
     "output_type": "stream",
     "text": [
      "/Users/vblot/anaconda3/envs/cemracs/lib/python3.8/site-packages/scipy/stats/_stats_py.py:4461: NearConstantInputWarning: An input array is nearly constant; the computed correlation coefficient may be inaccurate.\n",
      "  warnings.warn(stats.NearConstantInputWarning(msg))\n"
     ]
    }
   ],
   "source": [
    "for model_name, model in models.items():\n",
    "    model[\"pearson_correlation_to_error\"] = []\n",
    "    model[\"spearman_correlation_to_error\"] = []\n",
    "    model[\"hsic_to_error\"] = []\n",
    "    for index_confidence in range(len(ALPHA)):\n",
    "        str_vect = [\n",
    "            e + '--' + w for e, w in zip(\n",
    "                model[\"errors\"].astype(\"str\").tolist(),\n",
    "                model[\"width\"][:, index_confidence].astype(\"str\").tolist()\n",
    "            )\n",
    "        ]\n",
    "        model[\"pearson_correlation_to_error\"].append(bootstrap(\n",
    "            (np.array(str_vect), ),\n",
    "            my_correlation_pearson,\n",
    "            axis=0\n",
    "        ))\n",
    "        model[\"spearman_correlation_to_error\"].append(bootstrap(\n",
    "            (np.array(str_vect), ),\n",
    "            my_correlation_spearman,\n",
    "            axis=0\n",
    "        ))\n",
    "        model[\"hsic_to_error\"].append(hsic_ot(\n",
    "            model[\"errors\"],\n",
    "            model[\"width\"][:, index_confidence]\n",
    "        ))\n"
   ]
  },
  {
   "cell_type": "markdown",
   "metadata": {},
   "source": [
    "# Size of the Prediction Intervals"
   ]
  },
  {
   "cell_type": "code",
   "execution_count": 23,
   "metadata": {},
   "outputs": [],
   "source": [
    "# Get average width of the prediction intervals for each model in a pandas DataFrame\n",
    "index = pd.MultiIndex.from_tuples([(\"Average width\", i) for i in 1 - ALPHA])\n",
    "df_width = pd.DataFrame(\n",
    "    {\n",
    "        model_name: model[\"average_width\"]\n",
    "        for model_name, model in models.items()\n",
    "    },\n",
    "    index=index\n",
    ")\n"
   ]
  },
  {
   "cell_type": "code",
   "execution_count": 24,
   "metadata": {},
   "outputs": [],
   "source": [
    "# Get average std of the prediction intervals for each model in a pandas DataFrame\n",
    "index = pd.MultiIndex.from_tuples([(\"Std width\", i) for i in 1 - ALPHA])\n",
    "\n",
    "df_std = pd.DataFrame(\n",
    "    {\n",
    "        model_name: model[\"var_width\"]\n",
    "        for model_name, model in models.items()\n",
    "    },\n",
    "    index=index\n",
    ")\n"
   ]
  },
  {
   "cell_type": "code",
   "execution_count": 25,
   "metadata": {},
   "outputs": [],
   "source": [
    "index = pd.MultiIndex.from_tuples([(\"Coverage\", i) for i in 1 - ALPHA])\n",
    "\n",
    "df_cov = pd.DataFrame(\n",
    "    {\n",
    "        model_name: [c[0] for c in model[\"coverage\"]]\n",
    "        for model_name, model in models.items()\n",
    "    },\n",
    "    index=index\n",
    ")\n"
   ]
  },
  {
   "cell_type": "code",
   "execution_count": 26,
   "metadata": {},
   "outputs": [],
   "source": [
    "index = pd.MultiIndex.from_tuples([(\"Spearman Correlation\", i) for i in 1 - ALPHA])\n",
    "\n",
    "df_spearman = pd.DataFrame(\n",
    "    {\n",
    "        model_name: [np.mean(c.bootstrap_distribution) for c in model[\"spearman_correlation_to_error\"]]\n",
    "        for model_name, model in models.items()\n",
    "    },\n",
    "    index=index\n",
    ")\n"
   ]
  },
  {
   "cell_type": "code",
   "execution_count": 27,
   "metadata": {},
   "outputs": [],
   "source": [
    "index = pd.MultiIndex.from_tuples([(\"Pearson Correlation\", i) for i in 1 - ALPHA])\n",
    "\n",
    "df_pearson= pd.DataFrame(\n",
    "    {\n",
    "        model_name: [np.mean(c.bootstrap_distribution) for c in model[\"pearson_correlation_to_error\"]]\n",
    "        for model_name, model in models.items()\n",
    "    },\n",
    "    index=index\n",
    ")"
   ]
  },
  {
   "cell_type": "code",
   "execution_count": 28,
   "metadata": {},
   "outputs": [
    {
     "data": {
      "text/html": [
       "<div>\n",
       "<style scoped>\n",
       "    .dataframe tbody tr th:only-of-type {\n",
       "        vertical-align: middle;\n",
       "    }\n",
       "\n",
       "    .dataframe tbody tr th {\n",
       "        vertical-align: top;\n",
       "    }\n",
       "\n",
       "    .dataframe thead tr th {\n",
       "        text-align: left;\n",
       "    }\n",
       "</style>\n",
       "<table border=\"1\" class=\"dataframe\">\n",
       "  <thead>\n",
       "    <tr>\n",
       "      <th></th>\n",
       "      <th></th>\n",
       "      <th></th>\n",
       "      <th colspan=\"3\" halign=\"left\">Average width</th>\n",
       "      <th colspan=\"3\" halign=\"left\">Std width</th>\n",
       "      <th colspan=\"3\" halign=\"left\">Coverage</th>\n",
       "      <th colspan=\"3\" halign=\"left\">Spearman Correlation</th>\n",
       "      <th colspan=\"3\" halign=\"left\">Pearson Correlation</th>\n",
       "    </tr>\n",
       "    <tr>\n",
       "      <th></th>\n",
       "      <th></th>\n",
       "      <th></th>\n",
       "      <th>0.90</th>\n",
       "      <th>0.95</th>\n",
       "      <th>0.99</th>\n",
       "      <th>0.90</th>\n",
       "      <th>0.95</th>\n",
       "      <th>0.99</th>\n",
       "      <th>0.90</th>\n",
       "      <th>0.95</th>\n",
       "      <th>0.99</th>\n",
       "      <th>0.90</th>\n",
       "      <th>0.95</th>\n",
       "      <th>0.99</th>\n",
       "      <th>0.90</th>\n",
       "      <th>0.95</th>\n",
       "      <th>0.99</th>\n",
       "    </tr>\n",
       "  </thead>\n",
       "  <tbody>\n",
       "    <tr>\n",
       "      <th rowspan=\"3\" valign=\"top\">GP</th>\n",
       "      <th>0.5</th>\n",
       "      <th>1.0</th>\n",
       "      <td>0.199038</td>\n",
       "      <td>0.237169</td>\n",
       "      <td>0.311693</td>\n",
       "      <td>0.014167</td>\n",
       "      <td>0.016882</td>\n",
       "      <td>0.022186</td>\n",
       "      <td>0.925</td>\n",
       "      <td>0.975</td>\n",
       "      <td>1.000</td>\n",
       "      <td>0.323449</td>\n",
       "      <td>0.325535</td>\n",
       "      <td>0.323682</td>\n",
       "      <td>0.455310</td>\n",
       "      <td>0.456315</td>\n",
       "      <td>0.453896</td>\n",
       "    </tr>\n",
       "    <tr>\n",
       "      <th>1.5</th>\n",
       "      <th>1.0</th>\n",
       "      <td>0.123542</td>\n",
       "      <td>0.147210</td>\n",
       "      <td>0.193466</td>\n",
       "      <td>0.019885</td>\n",
       "      <td>0.023695</td>\n",
       "      <td>0.031140</td>\n",
       "      <td>0.850</td>\n",
       "      <td>0.875</td>\n",
       "      <td>0.950</td>\n",
       "      <td>0.267510</td>\n",
       "      <td>0.264307</td>\n",
       "      <td>0.266136</td>\n",
       "      <td>0.399949</td>\n",
       "      <td>0.398456</td>\n",
       "      <td>0.399115</td>\n",
       "    </tr>\n",
       "    <tr>\n",
       "      <th>2.5</th>\n",
       "      <th>1.0</th>\n",
       "      <td>0.106982</td>\n",
       "      <td>0.127477</td>\n",
       "      <td>0.167533</td>\n",
       "      <td>0.021101</td>\n",
       "      <td>0.025143</td>\n",
       "      <td>0.033044</td>\n",
       "      <td>0.750</td>\n",
       "      <td>0.875</td>\n",
       "      <td>0.950</td>\n",
       "      <td>0.252056</td>\n",
       "      <td>0.255379</td>\n",
       "      <td>0.253101</td>\n",
       "      <td>0.380439</td>\n",
       "      <td>0.382091</td>\n",
       "      <td>0.379658</td>\n",
       "    </tr>\n",
       "    <tr>\n",
       "      <th rowspan=\"3\" valign=\"top\">J+</th>\n",
       "      <th>0.5</th>\n",
       "      <th>1.0</th>\n",
       "      <td>0.183613</td>\n",
       "      <td>0.263643</td>\n",
       "      <td>0.407983</td>\n",
       "      <td>0.004125</td>\n",
       "      <td>0.003403</td>\n",
       "      <td>0.001947</td>\n",
       "      <td>0.900</td>\n",
       "      <td>0.950</td>\n",
       "      <td>1.000</td>\n",
       "      <td>0.161933</td>\n",
       "      <td>-0.150510</td>\n",
       "      <td>0.200660</td>\n",
       "      <td>0.221675</td>\n",
       "      <td>-0.091460</td>\n",
       "      <td>-0.247696</td>\n",
       "    </tr>\n",
       "    <tr>\n",
       "      <th>1.5</th>\n",
       "      <th>1.0</th>\n",
       "      <td>0.165734</td>\n",
       "      <td>0.228001</td>\n",
       "      <td>0.354142</td>\n",
       "      <td>0.004209</td>\n",
       "      <td>0.004619</td>\n",
       "      <td>0.005679</td>\n",
       "      <td>0.925</td>\n",
       "      <td>0.975</td>\n",
       "      <td>1.000</td>\n",
       "      <td>0.073455</td>\n",
       "      <td>0.204409</td>\n",
       "      <td>-0.154152</td>\n",
       "      <td>0.093608</td>\n",
       "      <td>0.272633</td>\n",
       "      <td>-0.298265</td>\n",
       "    </tr>\n",
       "    <tr>\n",
       "      <th>2.5</th>\n",
       "      <th>1.0</th>\n",
       "      <td>0.164689</td>\n",
       "      <td>0.220060</td>\n",
       "      <td>0.333407</td>\n",
       "      <td>0.003581</td>\n",
       "      <td>0.004908</td>\n",
       "      <td>0.003696</td>\n",
       "      <td>0.900</td>\n",
       "      <td>0.950</td>\n",
       "      <td>1.000</td>\n",
       "      <td>0.074026</td>\n",
       "      <td>0.080069</td>\n",
       "      <td>0.182966</td>\n",
       "      <td>0.025992</td>\n",
       "      <td>0.163274</td>\n",
       "      <td>0.026552</td>\n",
       "    </tr>\n",
       "    <tr>\n",
       "      <th rowspan=\"9\" valign=\"top\">J+GP</th>\n",
       "      <th rowspan=\"3\" valign=\"top\">0.5</th>\n",
       "      <th>0.5</th>\n",
       "      <td>0.176242</td>\n",
       "      <td>0.252329</td>\n",
       "      <td>0.374118</td>\n",
       "      <td>0.007920</td>\n",
       "      <td>0.009085</td>\n",
       "      <td>0.013140</td>\n",
       "      <td>0.900</td>\n",
       "      <td>0.975</td>\n",
       "      <td>1.000</td>\n",
       "      <td>0.397584</td>\n",
       "      <td>0.350063</td>\n",
       "      <td>0.317725</td>\n",
       "      <td>0.456771</td>\n",
       "      <td>0.416062</td>\n",
       "      <td>0.421300</td>\n",
       "    </tr>\n",
       "    <tr>\n",
       "      <th>1.0</th>\n",
       "      <td>0.168474</td>\n",
       "      <td>0.241124</td>\n",
       "      <td>0.344706</td>\n",
       "      <td>0.013394</td>\n",
       "      <td>0.017077</td>\n",
       "      <td>0.024940</td>\n",
       "      <td>0.900</td>\n",
       "      <td>0.975</td>\n",
       "      <td>1.000</td>\n",
       "      <td>0.373616</td>\n",
       "      <td>0.298950</td>\n",
       "      <td>0.350664</td>\n",
       "      <td>0.476432</td>\n",
       "      <td>0.438416</td>\n",
       "      <td>0.467051</td>\n",
       "    </tr>\n",
       "    <tr>\n",
       "      <th>1.5</th>\n",
       "      <td>0.162475</td>\n",
       "      <td>0.232329</td>\n",
       "      <td>0.324409</td>\n",
       "      <td>0.018524</td>\n",
       "      <td>0.024391</td>\n",
       "      <td>0.036632</td>\n",
       "      <td>0.900</td>\n",
       "      <td>0.975</td>\n",
       "      <td>1.000</td>\n",
       "      <td>0.379562</td>\n",
       "      <td>0.312948</td>\n",
       "      <td>0.400079</td>\n",
       "      <td>0.487595</td>\n",
       "      <td>0.468679</td>\n",
       "      <td>0.486204</td>\n",
       "    </tr>\n",
       "    <tr>\n",
       "      <th rowspan=\"3\" valign=\"top\">1.5</th>\n",
       "      <th>0.5</th>\n",
       "      <td>0.155187</td>\n",
       "      <td>0.207831</td>\n",
       "      <td>0.310684</td>\n",
       "      <td>0.013886</td>\n",
       "      <td>0.018342</td>\n",
       "      <td>0.024296</td>\n",
       "      <td>0.875</td>\n",
       "      <td>0.950</td>\n",
       "      <td>1.000</td>\n",
       "      <td>0.311348</td>\n",
       "      <td>0.348654</td>\n",
       "      <td>0.291403</td>\n",
       "      <td>0.399675</td>\n",
       "      <td>0.413274</td>\n",
       "      <td>0.376704</td>\n",
       "    </tr>\n",
       "    <tr>\n",
       "      <th>1.0</th>\n",
       "      <td>0.149021</td>\n",
       "      <td>0.190105</td>\n",
       "      <td>0.278980</td>\n",
       "      <td>0.025115</td>\n",
       "      <td>0.031373</td>\n",
       "      <td>0.047769</td>\n",
       "      <td>0.875</td>\n",
       "      <td>0.950</td>\n",
       "      <td>1.000</td>\n",
       "      <td>0.246928</td>\n",
       "      <td>0.323236</td>\n",
       "      <td>0.266749</td>\n",
       "      <td>0.361918</td>\n",
       "      <td>0.407271</td>\n",
       "      <td>0.415455</td>\n",
       "    </tr>\n",
       "    <tr>\n",
       "      <th>1.5</th>\n",
       "      <td>0.145507</td>\n",
       "      <td>0.176324</td>\n",
       "      <td>0.248467</td>\n",
       "      <td>0.035400</td>\n",
       "      <td>0.041992</td>\n",
       "      <td>0.061872</td>\n",
       "      <td>0.900</td>\n",
       "      <td>0.950</td>\n",
       "      <td>1.000</td>\n",
       "      <td>0.262796</td>\n",
       "      <td>0.341521</td>\n",
       "      <td>0.313856</td>\n",
       "      <td>0.392139</td>\n",
       "      <td>0.449590</td>\n",
       "      <td>0.424490</td>\n",
       "    </tr>\n",
       "    <tr>\n",
       "      <th rowspan=\"3\" valign=\"top\">2.5</th>\n",
       "      <th>0.5</th>\n",
       "      <td>0.153509</td>\n",
       "      <td>0.195998</td>\n",
       "      <td>0.297096</td>\n",
       "      <td>0.015990</td>\n",
       "      <td>0.020642</td>\n",
       "      <td>0.030301</td>\n",
       "      <td>0.875</td>\n",
       "      <td>0.950</td>\n",
       "      <td>1.000</td>\n",
       "      <td>0.237161</td>\n",
       "      <td>0.283745</td>\n",
       "      <td>0.284551</td>\n",
       "      <td>0.337085</td>\n",
       "      <td>0.373856</td>\n",
       "      <td>0.404177</td>\n",
       "    </tr>\n",
       "    <tr>\n",
       "      <th>1.0</th>\n",
       "      <td>0.144820</td>\n",
       "      <td>0.178866</td>\n",
       "      <td>0.254358</td>\n",
       "      <td>0.029307</td>\n",
       "      <td>0.035009</td>\n",
       "      <td>0.054480</td>\n",
       "      <td>0.900</td>\n",
       "      <td>0.950</td>\n",
       "      <td>1.000</td>\n",
       "      <td>0.237802</td>\n",
       "      <td>0.313271</td>\n",
       "      <td>0.280523</td>\n",
       "      <td>0.367351</td>\n",
       "      <td>0.422261</td>\n",
       "      <td>0.394744</td>\n",
       "    </tr>\n",
       "    <tr>\n",
       "      <th>1.5</th>\n",
       "      <td>0.141946</td>\n",
       "      <td>0.169949</td>\n",
       "      <td>0.223156</td>\n",
       "      <td>0.042260</td>\n",
       "      <td>0.048474</td>\n",
       "      <td>0.066744</td>\n",
       "      <td>0.900</td>\n",
       "      <td>0.950</td>\n",
       "      <td>0.975</td>\n",
       "      <td>0.245616</td>\n",
       "      <td>0.310430</td>\n",
       "      <td>0.305559</td>\n",
       "      <td>0.381631</td>\n",
       "      <td>0.426705</td>\n",
       "      <td>0.408741</td>\n",
       "    </tr>\n",
       "    <tr>\n",
       "      <th rowspan=\"9\" valign=\"top\">J-minmax-GP</th>\n",
       "      <th rowspan=\"3\" valign=\"top\">0.5</th>\n",
       "      <th>0.5</th>\n",
       "      <td>0.189019</td>\n",
       "      <td>0.277713</td>\n",
       "      <td>0.396326</td>\n",
       "      <td>0.011934</td>\n",
       "      <td>0.014485</td>\n",
       "      <td>0.018649</td>\n",
       "      <td>0.925</td>\n",
       "      <td>1.000</td>\n",
       "      <td>1.000</td>\n",
       "      <td>0.375202</td>\n",
       "      <td>0.381134</td>\n",
       "      <td>0.367139</td>\n",
       "      <td>0.453321</td>\n",
       "      <td>0.459679</td>\n",
       "      <td>0.469136</td>\n",
       "    </tr>\n",
       "    <tr>\n",
       "      <th>1.0</th>\n",
       "      <td>0.182514</td>\n",
       "      <td>0.265526</td>\n",
       "      <td>0.365648</td>\n",
       "      <td>0.016770</td>\n",
       "      <td>0.021765</td>\n",
       "      <td>0.029564</td>\n",
       "      <td>0.925</td>\n",
       "      <td>1.000</td>\n",
       "      <td>1.000</td>\n",
       "      <td>0.395672</td>\n",
       "      <td>0.377791</td>\n",
       "      <td>0.342149</td>\n",
       "      <td>0.478111</td>\n",
       "      <td>0.491017</td>\n",
       "      <td>0.471359</td>\n",
       "    </tr>\n",
       "    <tr>\n",
       "      <th>1.5</th>\n",
       "      <td>0.178304</td>\n",
       "      <td>0.258263</td>\n",
       "      <td>0.338364</td>\n",
       "      <td>0.021684</td>\n",
       "      <td>0.029228</td>\n",
       "      <td>0.038671</td>\n",
       "      <td>0.925</td>\n",
       "      <td>1.000</td>\n",
       "      <td>1.000</td>\n",
       "      <td>0.367470</td>\n",
       "      <td>0.406311</td>\n",
       "      <td>0.369677</td>\n",
       "      <td>0.479131</td>\n",
       "      <td>0.498994</td>\n",
       "      <td>0.474486</td>\n",
       "    </tr>\n",
       "    <tr>\n",
       "      <th rowspan=\"3\" valign=\"top\">1.5</th>\n",
       "      <th>0.5</th>\n",
       "      <td>0.179446</td>\n",
       "      <td>0.231749</td>\n",
       "      <td>0.336544</td>\n",
       "      <td>0.018396</td>\n",
       "      <td>0.021784</td>\n",
       "      <td>0.029981</td>\n",
       "      <td>0.925</td>\n",
       "      <td>0.975</td>\n",
       "      <td>1.000</td>\n",
       "      <td>0.328651</td>\n",
       "      <td>0.339732</td>\n",
       "      <td>0.343984</td>\n",
       "      <td>0.422733</td>\n",
       "      <td>0.416121</td>\n",
       "      <td>0.431817</td>\n",
       "    </tr>\n",
       "    <tr>\n",
       "      <th>1.0</th>\n",
       "      <td>0.170186</td>\n",
       "      <td>0.214113</td>\n",
       "      <td>0.298633</td>\n",
       "      <td>0.028166</td>\n",
       "      <td>0.034866</td>\n",
       "      <td>0.047912</td>\n",
       "      <td>0.925</td>\n",
       "      <td>0.950</td>\n",
       "      <td>1.000</td>\n",
       "      <td>0.364356</td>\n",
       "      <td>0.376982</td>\n",
       "      <td>0.333428</td>\n",
       "      <td>0.429395</td>\n",
       "      <td>0.440676</td>\n",
       "      <td>0.425111</td>\n",
       "    </tr>\n",
       "    <tr>\n",
       "      <th>1.5</th>\n",
       "      <td>0.167956</td>\n",
       "      <td>0.198205</td>\n",
       "      <td>0.266171</td>\n",
       "      <td>0.039424</td>\n",
       "      <td>0.046048</td>\n",
       "      <td>0.061907</td>\n",
       "      <td>0.950</td>\n",
       "      <td>0.950</td>\n",
       "      <td>1.000</td>\n",
       "      <td>0.351195</td>\n",
       "      <td>0.301002</td>\n",
       "      <td>0.340222</td>\n",
       "      <td>0.440647</td>\n",
       "      <td>0.402224</td>\n",
       "      <td>0.431061</td>\n",
       "    </tr>\n",
       "    <tr>\n",
       "      <th rowspan=\"3\" valign=\"top\">2.5</th>\n",
       "      <th>0.5</th>\n",
       "      <td>0.176460</td>\n",
       "      <td>0.220865</td>\n",
       "      <td>0.327090</td>\n",
       "      <td>0.021471</td>\n",
       "      <td>0.024730</td>\n",
       "      <td>0.036199</td>\n",
       "      <td>0.925</td>\n",
       "      <td>0.950</td>\n",
       "      <td>1.000</td>\n",
       "      <td>0.319267</td>\n",
       "      <td>0.370809</td>\n",
       "      <td>0.310193</td>\n",
       "      <td>0.383705</td>\n",
       "      <td>0.425065</td>\n",
       "      <td>0.400106</td>\n",
       "    </tr>\n",
       "    <tr>\n",
       "      <th>1.0</th>\n",
       "      <td>0.169247</td>\n",
       "      <td>0.201927</td>\n",
       "      <td>0.272178</td>\n",
       "      <td>0.033696</td>\n",
       "      <td>0.039682</td>\n",
       "      <td>0.053909</td>\n",
       "      <td>0.950</td>\n",
       "      <td>0.950</td>\n",
       "      <td>1.000</td>\n",
       "      <td>0.341157</td>\n",
       "      <td>0.308303</td>\n",
       "      <td>0.307101</td>\n",
       "      <td>0.416951</td>\n",
       "      <td>0.385875</td>\n",
       "      <td>0.398361</td>\n",
       "    </tr>\n",
       "    <tr>\n",
       "      <th>1.5</th>\n",
       "      <td>0.168195</td>\n",
       "      <td>0.192134</td>\n",
       "      <td>0.235868</td>\n",
       "      <td>0.047136</td>\n",
       "      <td>0.052535</td>\n",
       "      <td>0.066373</td>\n",
       "      <td>0.950</td>\n",
       "      <td>0.950</td>\n",
       "      <td>1.000</td>\n",
       "      <td>0.330960</td>\n",
       "      <td>0.364828</td>\n",
       "      <td>0.322436</td>\n",
       "      <td>0.413310</td>\n",
       "      <td>0.434007</td>\n",
       "      <td>0.405894</td>\n",
       "    </tr>\n",
       "  </tbody>\n",
       "</table>\n",
       "</div>"
      ],
      "text/plain": [
       "                    Average width                     Std width            \\\n",
       "                             0.90      0.95      0.99      0.90      0.95   \n",
       "GP          0.5 1.0      0.199038  0.237169  0.311693  0.014167  0.016882   \n",
       "            1.5 1.0      0.123542  0.147210  0.193466  0.019885  0.023695   \n",
       "            2.5 1.0      0.106982  0.127477  0.167533  0.021101  0.025143   \n",
       "J+          0.5 1.0      0.183613  0.263643  0.407983  0.004125  0.003403   \n",
       "            1.5 1.0      0.165734  0.228001  0.354142  0.004209  0.004619   \n",
       "            2.5 1.0      0.164689  0.220060  0.333407  0.003581  0.004908   \n",
       "J+GP        0.5 0.5      0.176242  0.252329  0.374118  0.007920  0.009085   \n",
       "                1.0      0.168474  0.241124  0.344706  0.013394  0.017077   \n",
       "                1.5      0.162475  0.232329  0.324409  0.018524  0.024391   \n",
       "            1.5 0.5      0.155187  0.207831  0.310684  0.013886  0.018342   \n",
       "                1.0      0.149021  0.190105  0.278980  0.025115  0.031373   \n",
       "                1.5      0.145507  0.176324  0.248467  0.035400  0.041992   \n",
       "            2.5 0.5      0.153509  0.195998  0.297096  0.015990  0.020642   \n",
       "                1.0      0.144820  0.178866  0.254358  0.029307  0.035009   \n",
       "                1.5      0.141946  0.169949  0.223156  0.042260  0.048474   \n",
       "J-minmax-GP 0.5 0.5      0.189019  0.277713  0.396326  0.011934  0.014485   \n",
       "                1.0      0.182514  0.265526  0.365648  0.016770  0.021765   \n",
       "                1.5      0.178304  0.258263  0.338364  0.021684  0.029228   \n",
       "            1.5 0.5      0.179446  0.231749  0.336544  0.018396  0.021784   \n",
       "                1.0      0.170186  0.214113  0.298633  0.028166  0.034866   \n",
       "                1.5      0.167956  0.198205  0.266171  0.039424  0.046048   \n",
       "            2.5 0.5      0.176460  0.220865  0.327090  0.021471  0.024730   \n",
       "                1.0      0.169247  0.201927  0.272178  0.033696  0.039682   \n",
       "                1.5      0.168195  0.192134  0.235868  0.047136  0.052535   \n",
       "\n",
       "                              Coverage               Spearman Correlation  \\\n",
       "                         0.99     0.90   0.95   0.99                 0.90   \n",
       "GP          0.5 1.0  0.022186    0.925  0.975  1.000             0.323449   \n",
       "            1.5 1.0  0.031140    0.850  0.875  0.950             0.267510   \n",
       "            2.5 1.0  0.033044    0.750  0.875  0.950             0.252056   \n",
       "J+          0.5 1.0  0.001947    0.900  0.950  1.000             0.161933   \n",
       "            1.5 1.0  0.005679    0.925  0.975  1.000             0.073455   \n",
       "            2.5 1.0  0.003696    0.900  0.950  1.000             0.074026   \n",
       "J+GP        0.5 0.5  0.013140    0.900  0.975  1.000             0.397584   \n",
       "                1.0  0.024940    0.900  0.975  1.000             0.373616   \n",
       "                1.5  0.036632    0.900  0.975  1.000             0.379562   \n",
       "            1.5 0.5  0.024296    0.875  0.950  1.000             0.311348   \n",
       "                1.0  0.047769    0.875  0.950  1.000             0.246928   \n",
       "                1.5  0.061872    0.900  0.950  1.000             0.262796   \n",
       "            2.5 0.5  0.030301    0.875  0.950  1.000             0.237161   \n",
       "                1.0  0.054480    0.900  0.950  1.000             0.237802   \n",
       "                1.5  0.066744    0.900  0.950  0.975             0.245616   \n",
       "J-minmax-GP 0.5 0.5  0.018649    0.925  1.000  1.000             0.375202   \n",
       "                1.0  0.029564    0.925  1.000  1.000             0.395672   \n",
       "                1.5  0.038671    0.925  1.000  1.000             0.367470   \n",
       "            1.5 0.5  0.029981    0.925  0.975  1.000             0.328651   \n",
       "                1.0  0.047912    0.925  0.950  1.000             0.364356   \n",
       "                1.5  0.061907    0.950  0.950  1.000             0.351195   \n",
       "            2.5 0.5  0.036199    0.925  0.950  1.000             0.319267   \n",
       "                1.0  0.053909    0.950  0.950  1.000             0.341157   \n",
       "                1.5  0.066373    0.950  0.950  1.000             0.330960   \n",
       "\n",
       "                                        Pearson Correlation            \\\n",
       "                         0.95      0.99                0.90      0.95   \n",
       "GP          0.5 1.0  0.325535  0.323682            0.455310  0.456315   \n",
       "            1.5 1.0  0.264307  0.266136            0.399949  0.398456   \n",
       "            2.5 1.0  0.255379  0.253101            0.380439  0.382091   \n",
       "J+          0.5 1.0 -0.150510  0.200660            0.221675 -0.091460   \n",
       "            1.5 1.0  0.204409 -0.154152            0.093608  0.272633   \n",
       "            2.5 1.0  0.080069  0.182966            0.025992  0.163274   \n",
       "J+GP        0.5 0.5  0.350063  0.317725            0.456771  0.416062   \n",
       "                1.0  0.298950  0.350664            0.476432  0.438416   \n",
       "                1.5  0.312948  0.400079            0.487595  0.468679   \n",
       "            1.5 0.5  0.348654  0.291403            0.399675  0.413274   \n",
       "                1.0  0.323236  0.266749            0.361918  0.407271   \n",
       "                1.5  0.341521  0.313856            0.392139  0.449590   \n",
       "            2.5 0.5  0.283745  0.284551            0.337085  0.373856   \n",
       "                1.0  0.313271  0.280523            0.367351  0.422261   \n",
       "                1.5  0.310430  0.305559            0.381631  0.426705   \n",
       "J-minmax-GP 0.5 0.5  0.381134  0.367139            0.453321  0.459679   \n",
       "                1.0  0.377791  0.342149            0.478111  0.491017   \n",
       "                1.5  0.406311  0.369677            0.479131  0.498994   \n",
       "            1.5 0.5  0.339732  0.343984            0.422733  0.416121   \n",
       "                1.0  0.376982  0.333428            0.429395  0.440676   \n",
       "                1.5  0.301002  0.340222            0.440647  0.402224   \n",
       "            2.5 0.5  0.370809  0.310193            0.383705  0.425065   \n",
       "                1.0  0.308303  0.307101            0.416951  0.385875   \n",
       "                1.5  0.364828  0.322436            0.413310  0.434007   \n",
       "\n",
       "                               \n",
       "                         0.99  \n",
       "GP          0.5 1.0  0.453896  \n",
       "            1.5 1.0  0.399115  \n",
       "            2.5 1.0  0.379658  \n",
       "J+          0.5 1.0 -0.247696  \n",
       "            1.5 1.0 -0.298265  \n",
       "            2.5 1.0  0.026552  \n",
       "J+GP        0.5 0.5  0.421300  \n",
       "                1.0  0.467051  \n",
       "                1.5  0.486204  \n",
       "            1.5 0.5  0.376704  \n",
       "                1.0  0.415455  \n",
       "                1.5  0.424490  \n",
       "            2.5 0.5  0.404177  \n",
       "                1.0  0.394744  \n",
       "                1.5  0.408741  \n",
       "J-minmax-GP 0.5 0.5  0.469136  \n",
       "                1.0  0.471359  \n",
       "                1.5  0.474486  \n",
       "            1.5 0.5  0.431817  \n",
       "                1.0  0.425111  \n",
       "                1.5  0.431061  \n",
       "            2.5 0.5  0.400106  \n",
       "                1.0  0.398361  \n",
       "                1.5  0.405894  "
      ]
     },
     "execution_count": 28,
     "metadata": {},
     "output_type": "execute_result"
    }
   ],
   "source": [
    "pd.concat([df_width.T, df_std.T, df_cov.T, df_spearman.T, df_pearson.T], axis=1)"
   ]
  }
 ],
 "metadata": {
  "kernelspec": {
   "display_name": "cemracs",
   "language": "python",
   "name": "python3"
  },
  "language_info": {
   "codemirror_mode": {
    "name": "ipython",
    "version": 3
   },
   "file_extension": ".py",
   "mimetype": "text/x-python",
   "name": "python",
   "nbconvert_exporter": "python",
   "pygments_lexer": "ipython3",
   "version": "3.8.17"
  },
  "orig_nbformat": 4
 },
 "nbformat": 4,
 "nbformat_minor": 2
}
